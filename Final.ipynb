{
 "cells": [
  {
   "cell_type": "markdown",
   "metadata": {},
   "source": [
    "# Final Round - KTBG TechJam Data Track by Team Watchara"
   ]
  },
  {
   "cell_type": "markdown",
   "metadata": {},
   "source": [
    "## This is my step-by-step Guide of how I build my model"
   ]
  },
  {
   "cell_type": "markdown",
   "metadata": {},
   "source": [
    "### Import the libraries"
   ]
  },
  {
   "cell_type": "code",
   "execution_count": 1,
   "metadata": {},
   "outputs": [
    {
     "name": "stderr",
     "output_type": "stream",
     "text": [
      "/home/aiy/anaconda3/lib/python3.6/site-packages/sklearn/cross_validation.py:44: DeprecationWarning: This module was deprecated in version 0.18 in favor of the model_selection module into which all the refactored classes and functions are moved. Also note that the interface of the new CV iterators are different from that of this module. This module will be removed in 0.20.\n",
      "  \"This module will be removed in 0.20.\", DeprecationWarning)\n"
     ]
    }
   ],
   "source": [
    "import pandas as pd\n",
    "import numpy as np\n",
    "import math\n",
    "from pandas.tseries.offsets import MonthEnd\n",
    "from dateutil.relativedelta import relativedelta, FR\n",
    "import datetime\n",
    "from sklearn.model_selection import GridSearchCV\n",
    "from sklearn.model_selection import StratifiedKFold\n",
    "from sklearn.metrics import mean_absolute_error, accuracy_score, classification_report\n",
    "from lightgbm import LGBMRegressor, LGBMClassifier\n",
    "from sklearn.cross_validation import train_test_split\n",
    "from sklearn.preprocessing import OneHotEncoder, LabelEncoder, StandardScaler"
   ]
  },
  {
   "cell_type": "markdown",
   "metadata": {},
   "source": [
    "### Selected Categories required by the Question"
   ]
  },
  {
   "cell_type": "code",
   "execution_count": 2,
   "metadata": {
    "collapsed": true
   },
   "outputs": [],
   "source": [
    "SELECTED_CAT = ['Automobiles and Vehicles', 'Clothing Stores', 'Service Providers',\n",
    "            'Transportation', 'Utilities']"
   ]
  },
  {
   "cell_type": "markdown",
   "metadata": {},
   "source": [
    "### Import the Data - 3 files are given"
   ]
  },
  {
   "cell_type": "code",
   "execution_count": 3,
   "metadata": {
    "collapsed": true
   },
   "outputs": [],
   "source": [
    "ccinfo = pd.read_csv('data/cc_info.csv.zip', index_col='card_no') #, parse_dates=['txn_date'])\n",
    "cclog = pd.read_csv('data/cc_log.csv.zip', parse_dates=['txn_dt'])\n",
    "cat_map = pd.read_csv('data/Final_categories.csv') #, parse_dates=['txn_date'])"
   ]
  },
  {
   "cell_type": "markdown",
   "metadata": {},
   "source": [
    "### Explore the data"
   ]
  },
  {
   "cell_type": "code",
   "execution_count": 4,
   "metadata": {},
   "outputs": [
    {
     "data": {
      "text/html": [
       "<div>\n",
       "<style>\n",
       "    .dataframe thead tr:only-child th {\n",
       "        text-align: right;\n",
       "    }\n",
       "\n",
       "    .dataframe thead th {\n",
       "        text-align: left;\n",
       "    }\n",
       "\n",
       "    .dataframe tbody tr th {\n",
       "        vertical-align: top;\n",
       "    }\n",
       "</style>\n",
       "<table border=\"1\" class=\"dataframe\">\n",
       "  <thead>\n",
       "    <tr style=\"text-align: right;\">\n",
       "      <th></th>\n",
       "      <th>card_type</th>\n",
       "      <th>opn_dt</th>\n",
       "      <th>exp_dt</th>\n",
       "      <th>cr_lmt_amt</th>\n",
       "      <th>prev_cr_lmt_amt</th>\n",
       "      <th>main_zip_cd</th>\n",
       "      <th>cr_line_amt</th>\n",
       "      <th>incm_amt</th>\n",
       "      <th>brth_estb_yr</th>\n",
       "      <th>gnd_ind</th>\n",
       "    </tr>\n",
       "    <tr>\n",
       "      <th>card_no</th>\n",
       "      <th></th>\n",
       "      <th></th>\n",
       "      <th></th>\n",
       "      <th></th>\n",
       "      <th></th>\n",
       "      <th></th>\n",
       "      <th></th>\n",
       "      <th></th>\n",
       "      <th></th>\n",
       "      <th></th>\n",
       "    </tr>\n",
       "  </thead>\n",
       "  <tbody>\n",
       "    <tr>\n",
       "      <th>4410123456000001</th>\n",
       "      <td>visa</td>\n",
       "      <td>1997-10-14</td>\n",
       "      <td>1017</td>\n",
       "      <td>50000</td>\n",
       "      <td>0</td>\n",
       "      <td>73120.0</td>\n",
       "      <td>50000</td>\n",
       "      <td>21000</td>\n",
       "      <td>1953.0</td>\n",
       "      <td>0</td>\n",
       "    </tr>\n",
       "    <tr>\n",
       "      <th>4410123456000002</th>\n",
       "      <td>master</td>\n",
       "      <td>2010-06-29</td>\n",
       "      <td>620</td>\n",
       "      <td>146000</td>\n",
       "      <td>0</td>\n",
       "      <td>43000.0</td>\n",
       "      <td>146000</td>\n",
       "      <td>72000</td>\n",
       "      <td>1965.0</td>\n",
       "      <td>0</td>\n",
       "    </tr>\n",
       "    <tr>\n",
       "      <th>4410123456000003</th>\n",
       "      <td>visa</td>\n",
       "      <td>2014-06-18</td>\n",
       "      <td>619</td>\n",
       "      <td>22000</td>\n",
       "      <td>0</td>\n",
       "      <td>23000.0</td>\n",
       "      <td>22000</td>\n",
       "      <td>20000</td>\n",
       "      <td>1978.0</td>\n",
       "      <td>0</td>\n",
       "    </tr>\n",
       "    <tr>\n",
       "      <th>4410123456000004</th>\n",
       "      <td>visa</td>\n",
       "      <td>2014-11-03</td>\n",
       "      <td>1119</td>\n",
       "      <td>1000000</td>\n",
       "      <td>0</td>\n",
       "      <td>10200.0</td>\n",
       "      <td>2141000</td>\n",
       "      <td>1800000</td>\n",
       "      <td>1955.0</td>\n",
       "      <td>1</td>\n",
       "    </tr>\n",
       "    <tr>\n",
       "      <th>4410123456000005</th>\n",
       "      <td>visa</td>\n",
       "      <td>2014-04-10</td>\n",
       "      <td>419</td>\n",
       "      <td>80000</td>\n",
       "      <td>0</td>\n",
       "      <td>57160.0</td>\n",
       "      <td>80000</td>\n",
       "      <td>32000</td>\n",
       "      <td>1969.0</td>\n",
       "      <td>0</td>\n",
       "    </tr>\n",
       "  </tbody>\n",
       "</table>\n",
       "</div>"
      ],
      "text/plain": [
       "                 card_type      opn_dt  exp_dt  cr_lmt_amt  prev_cr_lmt_amt  \\\n",
       "card_no                                                                       \n",
       "4410123456000001      visa  1997-10-14    1017       50000                0   \n",
       "4410123456000002    master  2010-06-29     620      146000                0   \n",
       "4410123456000003      visa  2014-06-18     619       22000                0   \n",
       "4410123456000004      visa  2014-11-03    1119     1000000                0   \n",
       "4410123456000005      visa  2014-04-10     419       80000                0   \n",
       "\n",
       "                  main_zip_cd  cr_line_amt  incm_amt  brth_estb_yr  gnd_ind  \n",
       "card_no                                                                      \n",
       "4410123456000001      73120.0        50000     21000        1953.0        0  \n",
       "4410123456000002      43000.0       146000     72000        1965.0        0  \n",
       "4410123456000003      23000.0        22000     20000        1978.0        0  \n",
       "4410123456000004      10200.0      2141000   1800000        1955.0        1  \n",
       "4410123456000005      57160.0        80000     32000        1969.0        0  "
      ]
     },
     "execution_count": 4,
     "metadata": {},
     "output_type": "execute_result"
    }
   ],
   "source": [
    "ccinfo.head()"
   ]
  },
  {
   "cell_type": "code",
   "execution_count": 5,
   "metadata": {},
   "outputs": [
    {
     "data": {
      "text/html": [
       "<div>\n",
       "<style>\n",
       "    .dataframe thead tr:only-child th {\n",
       "        text-align: right;\n",
       "    }\n",
       "\n",
       "    .dataframe thead th {\n",
       "        text-align: left;\n",
       "    }\n",
       "\n",
       "    .dataframe tbody tr th {\n",
       "        vertical-align: top;\n",
       "    }\n",
       "</style>\n",
       "<table border=\"1\" class=\"dataframe\">\n",
       "  <thead>\n",
       "    <tr style=\"text-align: right;\">\n",
       "      <th></th>\n",
       "      <th>card_no</th>\n",
       "      <th>txn_dt</th>\n",
       "      <th>txn_tm</th>\n",
       "      <th>bill_amt</th>\n",
       "      <th>card_acpt_cty</th>\n",
       "      <th>mrch_tp_cd</th>\n",
       "      <th>card_type</th>\n",
       "    </tr>\n",
       "  </thead>\n",
       "  <tbody>\n",
       "    <tr>\n",
       "      <th>0</th>\n",
       "      <td>4410123456098153</td>\n",
       "      <td>2017-03-20 17:00:00</td>\n",
       "      <td>10:22:19</td>\n",
       "      <td>5660</td>\n",
       "      <td>TH</td>\n",
       "      <td>4722</td>\n",
       "      <td>visa</td>\n",
       "    </tr>\n",
       "    <tr>\n",
       "      <th>1</th>\n",
       "      <td>4410123456018545</td>\n",
       "      <td>2017-03-20 17:00:00</td>\n",
       "      <td>23:30:43</td>\n",
       "      <td>100</td>\n",
       "      <td>US</td>\n",
       "      <td>5818</td>\n",
       "      <td>visa</td>\n",
       "    </tr>\n",
       "    <tr>\n",
       "      <th>2</th>\n",
       "      <td>4410123456085556</td>\n",
       "      <td>2017-03-20 17:00:00</td>\n",
       "      <td>07:32:54</td>\n",
       "      <td>1540</td>\n",
       "      <td>TH</td>\n",
       "      <td>6300</td>\n",
       "      <td>visa</td>\n",
       "    </tr>\n",
       "    <tr>\n",
       "      <th>3</th>\n",
       "      <td>4410123456047294</td>\n",
       "      <td>2017-03-20 17:00:00</td>\n",
       "      <td>05:16:20</td>\n",
       "      <td>1500</td>\n",
       "      <td>TH</td>\n",
       "      <td>5541</td>\n",
       "      <td>visa</td>\n",
       "    </tr>\n",
       "    <tr>\n",
       "      <th>4</th>\n",
       "      <td>4410123456074332</td>\n",
       "      <td>2017-03-20 17:00:00</td>\n",
       "      <td>13:18:56</td>\n",
       "      <td>680</td>\n",
       "      <td>TH</td>\n",
       "      <td>5812</td>\n",
       "      <td>visa</td>\n",
       "    </tr>\n",
       "  </tbody>\n",
       "</table>\n",
       "</div>"
      ],
      "text/plain": [
       "            card_no              txn_dt    txn_tm  bill_amt card_acpt_cty  \\\n",
       "0  4410123456098153 2017-03-20 17:00:00  10:22:19      5660            TH   \n",
       "1  4410123456018545 2017-03-20 17:00:00  23:30:43       100            US   \n",
       "2  4410123456085556 2017-03-20 17:00:00  07:32:54      1540            TH   \n",
       "3  4410123456047294 2017-03-20 17:00:00  05:16:20      1500            TH   \n",
       "4  4410123456074332 2017-03-20 17:00:00  13:18:56       680            TH   \n",
       "\n",
       "   mrch_tp_cd card_type  \n",
       "0        4722      visa  \n",
       "1        5818      visa  \n",
       "2        6300      visa  \n",
       "3        5541      visa  \n",
       "4        5812      visa  "
      ]
     },
     "execution_count": 5,
     "metadata": {},
     "output_type": "execute_result"
    }
   ],
   "source": [
    "cclog.head()"
   ]
  },
  {
   "cell_type": "code",
   "execution_count": 6,
   "metadata": {},
   "outputs": [
    {
     "data": {
      "text/html": [
       "<div>\n",
       "<style>\n",
       "    .dataframe thead tr:only-child th {\n",
       "        text-align: right;\n",
       "    }\n",
       "\n",
       "    .dataframe thead th {\n",
       "        text-align: left;\n",
       "    }\n",
       "\n",
       "    .dataframe tbody tr th {\n",
       "        vertical-align: top;\n",
       "    }\n",
       "</style>\n",
       "<table border=\"1\" class=\"dataframe\">\n",
       "  <thead>\n",
       "    <tr style=\"text-align: right;\">\n",
       "      <th></th>\n",
       "      <th>Categories</th>\n",
       "      <th>MCC</th>\n",
       "    </tr>\n",
       "  </thead>\n",
       "  <tbody>\n",
       "    <tr>\n",
       "      <th>0</th>\n",
       "      <td>Airlines</td>\n",
       "      <td>3000</td>\n",
       "    </tr>\n",
       "    <tr>\n",
       "      <th>1</th>\n",
       "      <td>Airlines</td>\n",
       "      <td>3001</td>\n",
       "    </tr>\n",
       "    <tr>\n",
       "      <th>2</th>\n",
       "      <td>Airlines</td>\n",
       "      <td>3002</td>\n",
       "    </tr>\n",
       "    <tr>\n",
       "      <th>3</th>\n",
       "      <td>Airlines</td>\n",
       "      <td>3003</td>\n",
       "    </tr>\n",
       "    <tr>\n",
       "      <th>4</th>\n",
       "      <td>Airlines</td>\n",
       "      <td>3004</td>\n",
       "    </tr>\n",
       "  </tbody>\n",
       "</table>\n",
       "</div>"
      ],
      "text/plain": [
       "  Categories   MCC\n",
       "0   Airlines  3000\n",
       "1   Airlines  3001\n",
       "2   Airlines  3002\n",
       "3   Airlines  3003\n",
       "4   Airlines  3004"
      ]
     },
     "execution_count": 6,
     "metadata": {},
     "output_type": "execute_result"
    }
   ],
   "source": [
    "cat_map.head()"
   ]
  },
  {
   "cell_type": "markdown",
   "metadata": {},
   "source": [
    "### Select only Category codes required by the question"
   ]
  },
  {
   "cell_type": "code",
   "execution_count": 7,
   "metadata": {},
   "outputs": [
    {
     "data": {
      "text/plain": [
       "array(['Airlines', 'Amusement and Entertainment',\n",
       "       'Automobile/Vehicle Rentals', 'Automobiles and Vehicles',\n",
       "       'Business Services', 'Clothing Stores', 'Contracted Services',\n",
       "       'Government Services', 'Hotels and Motels',\n",
       "       'Mail Order/Telephone Order Providers', 'Miscellaneous Stores',\n",
       "       'Personal Service Providers',\n",
       "       'Professional Services and Membership Organizations',\n",
       "       'Repair Services', 'Retail Stores', 'Service Providers',\n",
       "       'Transportation', 'Utilities',\n",
       "       'Wholesale Distributors and Manufacturers'], dtype=object)"
      ]
     },
     "execution_count": 7,
     "metadata": {},
     "output_type": "execute_result"
    }
   ],
   "source": [
    "cat_map['Categories'].unique()"
   ]
  },
  {
   "cell_type": "code",
   "execution_count": 8,
   "metadata": {
    "collapsed": true
   },
   "outputs": [],
   "source": [
    "selected_cat_id = cat_map[cat_map['Categories'].isin(SELECTED_CAT)]"
   ]
  },
  {
   "cell_type": "code",
   "execution_count": 9,
   "metadata": {},
   "outputs": [
    {
     "data": {
      "text/plain": [
       "array(['Automobiles and Vehicles', 'Clothing Stores', 'Service Providers',\n",
       "       'Transportation', 'Utilities'], dtype=object)"
      ]
     },
     "execution_count": 9,
     "metadata": {},
     "output_type": "execute_result"
    }
   ],
   "source": [
    "selected_cat_id['Categories'].unique()"
   ]
  },
  {
   "cell_type": "markdown",
   "metadata": {},
   "source": [
    "### Drop some columns that not very relevant"
   ]
  },
  {
   "cell_type": "code",
   "execution_count": 10,
   "metadata": {
    "collapsed": true
   },
   "outputs": [],
   "source": [
    "cclog.drop(['txn_tm', 'card_acpt_cty', 'card_type'], axis=1, inplace=True)\n",
    "ccinfo.drop(['card_type', 'opn_dt', 'exp_dt', 'main_zip_cd'], axis=1, inplace=True)"
   ]
  },
  {
   "cell_type": "markdown",
   "metadata": {},
   "source": [
    "### extract month, year, and order the transactions by month with 0 for the first month of the transactions and 24 for the last month"
   ]
  },
  {
   "cell_type": "code",
   "execution_count": 11,
   "metadata": {
    "collapsed": true
   },
   "outputs": [],
   "source": [
    "cclog['month'] = cclog['txn_dt'].dt.month\n",
    "cclog['year'] = cclog['txn_dt'].dt.year\n",
    "\n",
    "cclog['month_rank'] = 0\n",
    "cclog.loc[cclog['year'] == 2016, 'month_rank'] = cclog.loc[cclog['year'] == 2016, 'month']\n",
    "cclog.loc[cclog['year'] == 2017, 'month_rank'] = cclog.loc[cclog['year'] == 2017, 'month'] + 12"
   ]
  },
  {
   "cell_type": "code",
   "execution_count": 12,
   "metadata": {},
   "outputs": [
    {
     "data": {
      "text/html": [
       "<div>\n",
       "<style>\n",
       "    .dataframe thead tr:only-child th {\n",
       "        text-align: right;\n",
       "    }\n",
       "\n",
       "    .dataframe thead th {\n",
       "        text-align: left;\n",
       "    }\n",
       "\n",
       "    .dataframe tbody tr th {\n",
       "        vertical-align: top;\n",
       "    }\n",
       "</style>\n",
       "<table border=\"1\" class=\"dataframe\">\n",
       "  <thead>\n",
       "    <tr style=\"text-align: right;\">\n",
       "      <th></th>\n",
       "      <th>card_no</th>\n",
       "      <th>txn_dt</th>\n",
       "      <th>bill_amt</th>\n",
       "      <th>mrch_tp_cd</th>\n",
       "      <th>month</th>\n",
       "      <th>year</th>\n",
       "      <th>month_rank</th>\n",
       "    </tr>\n",
       "  </thead>\n",
       "  <tbody>\n",
       "    <tr>\n",
       "      <th>0</th>\n",
       "      <td>4410123456098153</td>\n",
       "      <td>2017-03-20 17:00:00</td>\n",
       "      <td>5660</td>\n",
       "      <td>4722</td>\n",
       "      <td>3</td>\n",
       "      <td>2017</td>\n",
       "      <td>15</td>\n",
       "    </tr>\n",
       "    <tr>\n",
       "      <th>1</th>\n",
       "      <td>4410123456018545</td>\n",
       "      <td>2017-03-20 17:00:00</td>\n",
       "      <td>100</td>\n",
       "      <td>5818</td>\n",
       "      <td>3</td>\n",
       "      <td>2017</td>\n",
       "      <td>15</td>\n",
       "    </tr>\n",
       "    <tr>\n",
       "      <th>2</th>\n",
       "      <td>4410123456085556</td>\n",
       "      <td>2017-03-20 17:00:00</td>\n",
       "      <td>1540</td>\n",
       "      <td>6300</td>\n",
       "      <td>3</td>\n",
       "      <td>2017</td>\n",
       "      <td>15</td>\n",
       "    </tr>\n",
       "    <tr>\n",
       "      <th>3</th>\n",
       "      <td>4410123456047294</td>\n",
       "      <td>2017-03-20 17:00:00</td>\n",
       "      <td>1500</td>\n",
       "      <td>5541</td>\n",
       "      <td>3</td>\n",
       "      <td>2017</td>\n",
       "      <td>15</td>\n",
       "    </tr>\n",
       "    <tr>\n",
       "      <th>4</th>\n",
       "      <td>4410123456074332</td>\n",
       "      <td>2017-03-20 17:00:00</td>\n",
       "      <td>680</td>\n",
       "      <td>5812</td>\n",
       "      <td>3</td>\n",
       "      <td>2017</td>\n",
       "      <td>15</td>\n",
       "    </tr>\n",
       "  </tbody>\n",
       "</table>\n",
       "</div>"
      ],
      "text/plain": [
       "            card_no              txn_dt  bill_amt  mrch_tp_cd  month  year  \\\n",
       "0  4410123456098153 2017-03-20 17:00:00      5660        4722      3  2017   \n",
       "1  4410123456018545 2017-03-20 17:00:00       100        5818      3  2017   \n",
       "2  4410123456085556 2017-03-20 17:00:00      1540        6300      3  2017   \n",
       "3  4410123456047294 2017-03-20 17:00:00      1500        5541      3  2017   \n",
       "4  4410123456074332 2017-03-20 17:00:00       680        5812      3  2017   \n",
       "\n",
       "   month_rank  \n",
       "0          15  \n",
       "1          15  \n",
       "2          15  \n",
       "3          15  \n",
       "4          15  "
      ]
     },
     "execution_count": 12,
     "metadata": {},
     "output_type": "execute_result"
    }
   ],
   "source": [
    "cclog.head()"
   ]
  },
  {
   "cell_type": "markdown",
   "metadata": {},
   "source": [
    "### Select only transactions required by the question"
   ]
  },
  {
   "cell_type": "code",
   "execution_count": 13,
   "metadata": {
    "collapsed": true
   },
   "outputs": [],
   "source": [
    "cclog_filter_cat = cclog[cclog['mrch_tp_cd'].isin(selected_cat_id['MCC'].values)]"
   ]
  },
  {
   "cell_type": "markdown",
   "metadata": {},
   "source": [
    "### add category name to the dataframe"
   ]
  },
  {
   "cell_type": "code",
   "execution_count": 14,
   "metadata": {},
   "outputs": [
    {
     "name": "stderr",
     "output_type": "stream",
     "text": [
      "/home/aiy/anaconda3/lib/python3.6/site-packages/ipykernel_launcher.py:1: SettingWithCopyWarning: \n",
      "A value is trying to be set on a copy of a slice from a DataFrame.\n",
      "Try using .loc[row_indexer,col_indexer] = value instead\n",
      "\n",
      "See the caveats in the documentation: http://pandas.pydata.org/pandas-docs/stable/indexing.html#indexing-view-versus-copy\n",
      "  \"\"\"Entry point for launching an IPython kernel.\n",
      "/home/aiy/anaconda3/lib/python3.6/site-packages/pandas/core/indexing.py:517: SettingWithCopyWarning: \n",
      "A value is trying to be set on a copy of a slice from a DataFrame.\n",
      "Try using .loc[row_indexer,col_indexer] = value instead\n",
      "\n",
      "See the caveats in the documentation: http://pandas.pydata.org/pandas-docs/stable/indexing.html#indexing-view-versus-copy\n",
      "  self.obj[item] = s\n"
     ]
    },
    {
     "data": {
      "text/html": [
       "<div>\n",
       "<style>\n",
       "    .dataframe thead tr:only-child th {\n",
       "        text-align: right;\n",
       "    }\n",
       "\n",
       "    .dataframe thead th {\n",
       "        text-align: left;\n",
       "    }\n",
       "\n",
       "    .dataframe tbody tr th {\n",
       "        vertical-align: top;\n",
       "    }\n",
       "</style>\n",
       "<table border=\"1\" class=\"dataframe\">\n",
       "  <thead>\n",
       "    <tr style=\"text-align: right;\">\n",
       "      <th></th>\n",
       "      <th>card_no</th>\n",
       "      <th>txn_dt</th>\n",
       "      <th>bill_amt</th>\n",
       "      <th>mrch_tp_cd</th>\n",
       "      <th>month</th>\n",
       "      <th>year</th>\n",
       "      <th>month_rank</th>\n",
       "      <th>cat_name</th>\n",
       "    </tr>\n",
       "  </thead>\n",
       "  <tbody>\n",
       "    <tr>\n",
       "      <th>0</th>\n",
       "      <td>4410123456098153</td>\n",
       "      <td>2017-03-20 17:00:00</td>\n",
       "      <td>5660</td>\n",
       "      <td>4722</td>\n",
       "      <td>3</td>\n",
       "      <td>2017</td>\n",
       "      <td>15</td>\n",
       "      <td>Transportation</td>\n",
       "    </tr>\n",
       "    <tr>\n",
       "      <th>2</th>\n",
       "      <td>4410123456085556</td>\n",
       "      <td>2017-03-20 17:00:00</td>\n",
       "      <td>1540</td>\n",
       "      <td>6300</td>\n",
       "      <td>3</td>\n",
       "      <td>2017</td>\n",
       "      <td>15</td>\n",
       "      <td>Service Providers</td>\n",
       "    </tr>\n",
       "    <tr>\n",
       "      <th>3</th>\n",
       "      <td>4410123456047294</td>\n",
       "      <td>2017-03-20 17:00:00</td>\n",
       "      <td>1500</td>\n",
       "      <td>5541</td>\n",
       "      <td>3</td>\n",
       "      <td>2017</td>\n",
       "      <td>15</td>\n",
       "      <td>Automobiles and Vehicles</td>\n",
       "    </tr>\n",
       "    <tr>\n",
       "      <th>6</th>\n",
       "      <td>4410123456008859</td>\n",
       "      <td>2017-03-20 17:00:00</td>\n",
       "      <td>1000</td>\n",
       "      <td>5631</td>\n",
       "      <td>3</td>\n",
       "      <td>2017</td>\n",
       "      <td>15</td>\n",
       "      <td>Clothing Stores</td>\n",
       "    </tr>\n",
       "    <tr>\n",
       "      <th>7</th>\n",
       "      <td>4410123456021078</td>\n",
       "      <td>2017-03-20 17:00:00</td>\n",
       "      <td>80</td>\n",
       "      <td>4121</td>\n",
       "      <td>3</td>\n",
       "      <td>2017</td>\n",
       "      <td>15</td>\n",
       "      <td>Transportation</td>\n",
       "    </tr>\n",
       "  </tbody>\n",
       "</table>\n",
       "</div>"
      ],
      "text/plain": [
       "            card_no              txn_dt  bill_amt  mrch_tp_cd  month  year  \\\n",
       "0  4410123456098153 2017-03-20 17:00:00      5660        4722      3  2017   \n",
       "2  4410123456085556 2017-03-20 17:00:00      1540        6300      3  2017   \n",
       "3  4410123456047294 2017-03-20 17:00:00      1500        5541      3  2017   \n",
       "6  4410123456008859 2017-03-20 17:00:00      1000        5631      3  2017   \n",
       "7  4410123456021078 2017-03-20 17:00:00        80        4121      3  2017   \n",
       "\n",
       "   month_rank                  cat_name  \n",
       "0          15            Transportation  \n",
       "2          15         Service Providers  \n",
       "3          15  Automobiles and Vehicles  \n",
       "6          15           Clothing Stores  \n",
       "7          15            Transportation  "
      ]
     },
     "execution_count": 14,
     "metadata": {},
     "output_type": "execute_result"
    }
   ],
   "source": [
    "cclog_filter_cat['cat_name'] = ''\n",
    "\n",
    "for i, cat_name in enumerate(SELECTED_CAT):\n",
    "    temp = selected_cat_id[selected_cat_id['Categories'] == cat_name]\n",
    "    select_row = cclog_filter_cat['mrch_tp_cd'].isin(temp['MCC'].values)\n",
    "    cclog_filter_cat.loc[select_row, 'cat_name'] = cat_name\n",
    "\n",
    "cclog_filter_cat.head()"
   ]
  },
  {
   "cell_type": "markdown",
   "metadata": {},
   "source": [
    "### Find How many days from last used for each card and categories"
   ]
  },
  {
   "cell_type": "code",
   "execution_count": 15,
   "metadata": {
    "collapsed": true
   },
   "outputs": [],
   "source": [
    "sort_time = cclog_filter_cat.sort_values(['card_no', 'cat_name', 'txn_dt'],ascending=False).groupby(['card_no', 'cat_name']).head(1)\n",
    "sort_time['days_from_last'] = (datetime.datetime.now() - sort_time['txn_dt']).dt.days"
   ]
  },
  {
   "cell_type": "code",
   "execution_count": 16,
   "metadata": {},
   "outputs": [
    {
     "data": {
      "text/html": [
       "<div>\n",
       "<style>\n",
       "    .dataframe thead tr:only-child th {\n",
       "        text-align: right;\n",
       "    }\n",
       "\n",
       "    .dataframe thead th {\n",
       "        text-align: left;\n",
       "    }\n",
       "\n",
       "    .dataframe tbody tr th {\n",
       "        vertical-align: top;\n",
       "    }\n",
       "</style>\n",
       "<table border=\"1\" class=\"dataframe\">\n",
       "  <thead>\n",
       "    <tr style=\"text-align: right;\">\n",
       "      <th></th>\n",
       "      <th>card_no</th>\n",
       "      <th>txn_dt</th>\n",
       "      <th>bill_amt</th>\n",
       "      <th>mrch_tp_cd</th>\n",
       "      <th>month</th>\n",
       "      <th>year</th>\n",
       "      <th>month_rank</th>\n",
       "      <th>cat_name</th>\n",
       "      <th>days_from_last</th>\n",
       "    </tr>\n",
       "  </thead>\n",
       "  <tbody>\n",
       "    <tr>\n",
       "      <th>5706786</th>\n",
       "      <td>4410123456100000</td>\n",
       "      <td>2016-08-15 17:00:00</td>\n",
       "      <td>4000</td>\n",
       "      <td>4812</td>\n",
       "      <td>8</td>\n",
       "      <td>2016</td>\n",
       "      <td>8</td>\n",
       "      <td>Utilities</td>\n",
       "      <td>399</td>\n",
       "    </tr>\n",
       "    <tr>\n",
       "      <th>2290947</th>\n",
       "      <td>4410123456100000</td>\n",
       "      <td>2016-04-02 17:00:00</td>\n",
       "      <td>3000</td>\n",
       "      <td>6011</td>\n",
       "      <td>4</td>\n",
       "      <td>2016</td>\n",
       "      <td>4</td>\n",
       "      <td>Service Providers</td>\n",
       "      <td>534</td>\n",
       "    </tr>\n",
       "    <tr>\n",
       "      <th>1210327</th>\n",
       "      <td>4410123456100000</td>\n",
       "      <td>2016-04-02 17:00:00</td>\n",
       "      <td>1180</td>\n",
       "      <td>5699</td>\n",
       "      <td>4</td>\n",
       "      <td>2016</td>\n",
       "      <td>4</td>\n",
       "      <td>Clothing Stores</td>\n",
       "      <td>534</td>\n",
       "    </tr>\n",
       "    <tr>\n",
       "      <th>4939788</th>\n",
       "      <td>4410123456100000</td>\n",
       "      <td>2017-06-27 17:00:00</td>\n",
       "      <td>580</td>\n",
       "      <td>5541</td>\n",
       "      <td>6</td>\n",
       "      <td>2017</td>\n",
       "      <td>18</td>\n",
       "      <td>Automobiles and Vehicles</td>\n",
       "      <td>83</td>\n",
       "    </tr>\n",
       "    <tr>\n",
       "      <th>5972452</th>\n",
       "      <td>4410123456099999</td>\n",
       "      <td>2017-05-20 17:00:00</td>\n",
       "      <td>860</td>\n",
       "      <td>4812</td>\n",
       "      <td>5</td>\n",
       "      <td>2017</td>\n",
       "      <td>17</td>\n",
       "      <td>Utilities</td>\n",
       "      <td>121</td>\n",
       "    </tr>\n",
       "  </tbody>\n",
       "</table>\n",
       "</div>"
      ],
      "text/plain": [
       "                  card_no              txn_dt  bill_amt  mrch_tp_cd  month  \\\n",
       "5706786  4410123456100000 2016-08-15 17:00:00      4000        4812      8   \n",
       "2290947  4410123456100000 2016-04-02 17:00:00      3000        6011      4   \n",
       "1210327  4410123456100000 2016-04-02 17:00:00      1180        5699      4   \n",
       "4939788  4410123456100000 2017-06-27 17:00:00       580        5541      6   \n",
       "5972452  4410123456099999 2017-05-20 17:00:00       860        4812      5   \n",
       "\n",
       "         year  month_rank                  cat_name  days_from_last  \n",
       "5706786  2016           8                 Utilities             399  \n",
       "2290947  2016           4         Service Providers             534  \n",
       "1210327  2016           4           Clothing Stores             534  \n",
       "4939788  2017          18  Automobiles and Vehicles              83  \n",
       "5972452  2017          17                 Utilities             121  "
      ]
     },
     "execution_count": 16,
     "metadata": {},
     "output_type": "execute_result"
    }
   ],
   "source": [
    "sort_time.head()"
   ]
  },
  {
   "cell_type": "markdown",
   "metadata": {},
   "source": [
    "### Find sum amount spent and number of transactions for each categories and card"
   ]
  },
  {
   "cell_type": "code",
   "execution_count": 17,
   "metadata": {},
   "outputs": [
    {
     "data": {
      "text/html": [
       "<div>\n",
       "<style>\n",
       "    .dataframe thead tr:only-child th {\n",
       "        text-align: right;\n",
       "    }\n",
       "\n",
       "    .dataframe thead th {\n",
       "        text-align: left;\n",
       "    }\n",
       "\n",
       "    .dataframe tbody tr th {\n",
       "        vertical-align: top;\n",
       "    }\n",
       "</style>\n",
       "<table border=\"1\" class=\"dataframe\">\n",
       "  <thead>\n",
       "    <tr style=\"text-align: right;\">\n",
       "      <th></th>\n",
       "      <th></th>\n",
       "      <th></th>\n",
       "      <th>bill_amt</th>\n",
       "      <th>txn_dt</th>\n",
       "    </tr>\n",
       "    <tr>\n",
       "      <th>cat_name</th>\n",
       "      <th>month_rank</th>\n",
       "      <th>card_no</th>\n",
       "      <th></th>\n",
       "      <th></th>\n",
       "    </tr>\n",
       "  </thead>\n",
       "  <tbody>\n",
       "    <tr>\n",
       "      <th rowspan=\"5\" valign=\"top\">Automobiles and Vehicles</th>\n",
       "      <th rowspan=\"5\" valign=\"top\">0</th>\n",
       "      <th>4410123456000117</th>\n",
       "      <td>1060</td>\n",
       "      <td>1</td>\n",
       "    </tr>\n",
       "    <tr>\n",
       "      <th>4410123456000300</th>\n",
       "      <td>1380</td>\n",
       "      <td>1</td>\n",
       "    </tr>\n",
       "    <tr>\n",
       "      <th>4410123456000327</th>\n",
       "      <td>700</td>\n",
       "      <td>1</td>\n",
       "    </tr>\n",
       "    <tr>\n",
       "      <th>4410123456000352</th>\n",
       "      <td>500</td>\n",
       "      <td>1</td>\n",
       "    </tr>\n",
       "    <tr>\n",
       "      <th>4410123456000520</th>\n",
       "      <td>1260</td>\n",
       "      <td>1</td>\n",
       "    </tr>\n",
       "  </tbody>\n",
       "</table>\n",
       "</div>"
      ],
      "text/plain": [
       "                                                      bill_amt  txn_dt\n",
       "cat_name                 month_rank card_no                           \n",
       "Automobiles and Vehicles 0          4410123456000117      1060       1\n",
       "                                    4410123456000300      1380       1\n",
       "                                    4410123456000327       700       1\n",
       "                                    4410123456000352       500       1\n",
       "                                    4410123456000520      1260       1"
      ]
     },
     "execution_count": 17,
     "metadata": {},
     "output_type": "execute_result"
    }
   ],
   "source": [
    "month_group = cclog_filter_cat.groupby(['cat_name', 'month_rank', 'card_no'])\n",
    "\n",
    "group_sum = month_group.sum()[['bill_amt']]\n",
    "group_count = month_group.count()[['txn_dt']]\n",
    "\n",
    "group_log = pd.merge(group_sum, group_count, how='outer',\n",
    "                          left_index=True, right_index=True)\n",
    "\n",
    "group_log.head()"
   ]
  },
  {
   "cell_type": "markdown",
   "metadata": {},
   "source": [
    "### filter only transactions with month_rank 14+ and sum, count by categories and card_no"
   ]
  },
  {
   "cell_type": "code",
   "execution_count": 18,
   "metadata": {},
   "outputs": [
    {
     "data": {
      "text/html": [
       "<div>\n",
       "<style>\n",
       "    .dataframe thead tr:only-child th {\n",
       "        text-align: right;\n",
       "    }\n",
       "\n",
       "    .dataframe thead th {\n",
       "        text-align: left;\n",
       "    }\n",
       "\n",
       "    .dataframe tbody tr th {\n",
       "        vertical-align: top;\n",
       "    }\n",
       "</style>\n",
       "<table border=\"1\" class=\"dataframe\">\n",
       "  <thead>\n",
       "    <tr style=\"text-align: right;\">\n",
       "      <th></th>\n",
       "      <th></th>\n",
       "      <th>bill_amt</th>\n",
       "      <th>txn_dt</th>\n",
       "    </tr>\n",
       "    <tr>\n",
       "      <th>cat_name</th>\n",
       "      <th>card_no</th>\n",
       "      <th></th>\n",
       "      <th></th>\n",
       "    </tr>\n",
       "  </thead>\n",
       "  <tbody>\n",
       "    <tr>\n",
       "      <th rowspan=\"5\" valign=\"top\">Automobiles and Vehicles</th>\n",
       "      <th>4410123456000003</th>\n",
       "      <td>5680</td>\n",
       "      <td>5</td>\n",
       "    </tr>\n",
       "    <tr>\n",
       "      <th>4410123456000004</th>\n",
       "      <td>3900</td>\n",
       "      <td>3</td>\n",
       "    </tr>\n",
       "    <tr>\n",
       "      <th>4410123456000005</th>\n",
       "      <td>8680</td>\n",
       "      <td>11</td>\n",
       "    </tr>\n",
       "    <tr>\n",
       "      <th>4410123456000007</th>\n",
       "      <td>26980</td>\n",
       "      <td>23</td>\n",
       "    </tr>\n",
       "    <tr>\n",
       "      <th>4410123456000009</th>\n",
       "      <td>4520</td>\n",
       "      <td>3</td>\n",
       "    </tr>\n",
       "  </tbody>\n",
       "</table>\n",
       "</div>"
      ],
      "text/plain": [
       "                                           bill_amt  txn_dt\n",
       "cat_name                 card_no                           \n",
       "Automobiles and Vehicles 4410123456000003      5680       5\n",
       "                         4410123456000004      3900       3\n",
       "                         4410123456000005      8680      11\n",
       "                         4410123456000007     26980      23\n",
       "                         4410123456000009      4520       3"
      ]
     },
     "execution_count": 18,
     "metadata": {},
     "output_type": "execute_result"
    }
   ],
   "source": [
    "cclog_filter_cat_10up = cclog_filter_cat[cclog_filter_cat['month_rank'] > 13]\n",
    "card_group = cclog_filter_cat_10up.groupby(['cat_name', 'card_no'])\n",
    "group_card_sum = card_group.sum()[['bill_amt']]\n",
    "group_card_count = card_group.count()[['txn_dt']]\n",
    "group_agg = card_group.agg(['mean', 'count'])[['bill_amt']]\n",
    "\n",
    "group_log_card = pd.merge(group_card_sum, group_card_count, how='outer',\n",
    "                          left_index=True, right_index=True)\n",
    "group_log_card.head()"
   ]
  },
  {
   "cell_type": "markdown",
   "metadata": {},
   "source": [
    "### Find sum, count by months"
   ]
  },
  {
   "cell_type": "code",
   "execution_count": 19,
   "metadata": {
    "collapsed": true
   },
   "outputs": [],
   "source": [
    "all_spend = pd.DataFrame()\n",
    "for cat_name in SELECTED_CAT:\n",
    "    temp = pd.DataFrame(index=ccinfo.index)\n",
    "    temp['total_count'] = 0\n",
    "    temp['total_spend'] = 0\n",
    "    temp['mean'] = 0\n",
    "    for month_rank in range(19):\n",
    "        card_sum = group_log.loc[(cat_name, month_rank)]\n",
    "        temp[['bill'+str(month_rank), 'count'+str(month_rank)]] = card_sum\n",
    "        \n",
    "    temp[['total_spend', 'total_count']] = group_log_card.loc[(cat_name)]\n",
    "    temp['mean'] = group_agg.loc[(cat_name), ('bill_amt','mean')]\n",
    "        \n",
    "    sort_time_temp = sort_time[sort_time['cat_name'] == cat_name].set_index('card_no')\n",
    "    temp['days_from_last'] = sort_time_temp['days_from_last']\n",
    "    \n",
    "    temp['cat_name'] = cat_name\n",
    "    all_spend = all_spend.append(temp.reset_index(), ignore_index=True)\n",
    "    \n",
    "all_spend.fillna(0, inplace=True)"
   ]
  },
  {
   "cell_type": "code",
   "execution_count": 20,
   "metadata": {},
   "outputs": [
    {
     "data": {
      "text/html": [
       "<div>\n",
       "<style>\n",
       "    .dataframe thead tr:only-child th {\n",
       "        text-align: right;\n",
       "    }\n",
       "\n",
       "    .dataframe thead th {\n",
       "        text-align: left;\n",
       "    }\n",
       "\n",
       "    .dataframe tbody tr th {\n",
       "        vertical-align: top;\n",
       "    }\n",
       "</style>\n",
       "<table border=\"1\" class=\"dataframe\">\n",
       "  <thead>\n",
       "    <tr style=\"text-align: right;\">\n",
       "      <th></th>\n",
       "      <th>card_no</th>\n",
       "      <th>total_count</th>\n",
       "      <th>total_spend</th>\n",
       "      <th>mean</th>\n",
       "      <th>bill0</th>\n",
       "      <th>count0</th>\n",
       "      <th>bill1</th>\n",
       "      <th>count1</th>\n",
       "      <th>bill2</th>\n",
       "      <th>count2</th>\n",
       "      <th>...</th>\n",
       "      <th>bill15</th>\n",
       "      <th>count15</th>\n",
       "      <th>bill16</th>\n",
       "      <th>count16</th>\n",
       "      <th>bill17</th>\n",
       "      <th>count17</th>\n",
       "      <th>bill18</th>\n",
       "      <th>count18</th>\n",
       "      <th>days_from_last</th>\n",
       "      <th>cat_name</th>\n",
       "    </tr>\n",
       "  </thead>\n",
       "  <tbody>\n",
       "    <tr>\n",
       "      <th>0</th>\n",
       "      <td>4410123456000001</td>\n",
       "      <td>0.0</td>\n",
       "      <td>0.0</td>\n",
       "      <td>0.000000</td>\n",
       "      <td>0.0</td>\n",
       "      <td>0.0</td>\n",
       "      <td>0.0</td>\n",
       "      <td>0.0</td>\n",
       "      <td>0.0</td>\n",
       "      <td>0.0</td>\n",
       "      <td>...</td>\n",
       "      <td>0.0</td>\n",
       "      <td>0.0</td>\n",
       "      <td>0.0</td>\n",
       "      <td>0.0</td>\n",
       "      <td>0.0</td>\n",
       "      <td>0.0</td>\n",
       "      <td>0.0</td>\n",
       "      <td>0.0</td>\n",
       "      <td>391.0</td>\n",
       "      <td>Automobiles and Vehicles</td>\n",
       "    </tr>\n",
       "    <tr>\n",
       "      <th>1</th>\n",
       "      <td>4410123456000002</td>\n",
       "      <td>0.0</td>\n",
       "      <td>0.0</td>\n",
       "      <td>0.000000</td>\n",
       "      <td>0.0</td>\n",
       "      <td>0.0</td>\n",
       "      <td>0.0</td>\n",
       "      <td>0.0</td>\n",
       "      <td>0.0</td>\n",
       "      <td>0.0</td>\n",
       "      <td>...</td>\n",
       "      <td>0.0</td>\n",
       "      <td>0.0</td>\n",
       "      <td>0.0</td>\n",
       "      <td>0.0</td>\n",
       "      <td>0.0</td>\n",
       "      <td>0.0</td>\n",
       "      <td>0.0</td>\n",
       "      <td>0.0</td>\n",
       "      <td>0.0</td>\n",
       "      <td>Automobiles and Vehicles</td>\n",
       "    </tr>\n",
       "    <tr>\n",
       "      <th>2</th>\n",
       "      <td>4410123456000003</td>\n",
       "      <td>5.0</td>\n",
       "      <td>5680.0</td>\n",
       "      <td>1136.000000</td>\n",
       "      <td>0.0</td>\n",
       "      <td>0.0</td>\n",
       "      <td>0.0</td>\n",
       "      <td>0.0</td>\n",
       "      <td>500.0</td>\n",
       "      <td>1.0</td>\n",
       "      <td>...</td>\n",
       "      <td>0.0</td>\n",
       "      <td>0.0</td>\n",
       "      <td>840.0</td>\n",
       "      <td>1.0</td>\n",
       "      <td>0.0</td>\n",
       "      <td>0.0</td>\n",
       "      <td>0.0</td>\n",
       "      <td>0.0</td>\n",
       "      <td>160.0</td>\n",
       "      <td>Automobiles and Vehicles</td>\n",
       "    </tr>\n",
       "    <tr>\n",
       "      <th>3</th>\n",
       "      <td>4410123456000004</td>\n",
       "      <td>3.0</td>\n",
       "      <td>3900.0</td>\n",
       "      <td>1300.000000</td>\n",
       "      <td>0.0</td>\n",
       "      <td>0.0</td>\n",
       "      <td>0.0</td>\n",
       "      <td>0.0</td>\n",
       "      <td>0.0</td>\n",
       "      <td>0.0</td>\n",
       "      <td>...</td>\n",
       "      <td>0.0</td>\n",
       "      <td>0.0</td>\n",
       "      <td>2400.0</td>\n",
       "      <td>2.0</td>\n",
       "      <td>0.0</td>\n",
       "      <td>0.0</td>\n",
       "      <td>1500.0</td>\n",
       "      <td>1.0</td>\n",
       "      <td>101.0</td>\n",
       "      <td>Automobiles and Vehicles</td>\n",
       "    </tr>\n",
       "    <tr>\n",
       "      <th>4</th>\n",
       "      <td>4410123456000005</td>\n",
       "      <td>11.0</td>\n",
       "      <td>8680.0</td>\n",
       "      <td>789.090909</td>\n",
       "      <td>0.0</td>\n",
       "      <td>0.0</td>\n",
       "      <td>0.0</td>\n",
       "      <td>0.0</td>\n",
       "      <td>0.0</td>\n",
       "      <td>0.0</td>\n",
       "      <td>...</td>\n",
       "      <td>920.0</td>\n",
       "      <td>1.0</td>\n",
       "      <td>2640.0</td>\n",
       "      <td>3.0</td>\n",
       "      <td>2240.0</td>\n",
       "      <td>3.0</td>\n",
       "      <td>1940.0</td>\n",
       "      <td>3.0</td>\n",
       "      <td>92.0</td>\n",
       "      <td>Automobiles and Vehicles</td>\n",
       "    </tr>\n",
       "  </tbody>\n",
       "</table>\n",
       "<p>5 rows × 44 columns</p>\n",
       "</div>"
      ],
      "text/plain": [
       "            card_no  total_count  total_spend         mean  bill0  count0  \\\n",
       "0  4410123456000001          0.0          0.0     0.000000    0.0     0.0   \n",
       "1  4410123456000002          0.0          0.0     0.000000    0.0     0.0   \n",
       "2  4410123456000003          5.0       5680.0  1136.000000    0.0     0.0   \n",
       "3  4410123456000004          3.0       3900.0  1300.000000    0.0     0.0   \n",
       "4  4410123456000005         11.0       8680.0   789.090909    0.0     0.0   \n",
       "\n",
       "   bill1  count1  bill2  count2            ...             bill15  count15  \\\n",
       "0    0.0     0.0    0.0     0.0            ...                0.0      0.0   \n",
       "1    0.0     0.0    0.0     0.0            ...                0.0      0.0   \n",
       "2    0.0     0.0  500.0     1.0            ...                0.0      0.0   \n",
       "3    0.0     0.0    0.0     0.0            ...                0.0      0.0   \n",
       "4    0.0     0.0    0.0     0.0            ...              920.0      1.0   \n",
       "\n",
       "   bill16  count16  bill17  count17  bill18  count18  days_from_last  \\\n",
       "0     0.0      0.0     0.0      0.0     0.0      0.0           391.0   \n",
       "1     0.0      0.0     0.0      0.0     0.0      0.0             0.0   \n",
       "2   840.0      1.0     0.0      0.0     0.0      0.0           160.0   \n",
       "3  2400.0      2.0     0.0      0.0  1500.0      1.0           101.0   \n",
       "4  2640.0      3.0  2240.0      3.0  1940.0      3.0            92.0   \n",
       "\n",
       "                   cat_name  \n",
       "0  Automobiles and Vehicles  \n",
       "1  Automobiles and Vehicles  \n",
       "2  Automobiles and Vehicles  \n",
       "3  Automobiles and Vehicles  \n",
       "4  Automobiles and Vehicles  \n",
       "\n",
       "[5 rows x 44 columns]"
      ]
     },
     "execution_count": 20,
     "metadata": {},
     "output_type": "execute_result"
    }
   ],
   "source": [
    "all_spend.head()"
   ]
  },
  {
   "cell_type": "markdown",
   "metadata": {},
   "source": [
    "### label encode cat_name"
   ]
  },
  {
   "cell_type": "code",
   "execution_count": 21,
   "metadata": {},
   "outputs": [
    {
     "data": {
      "text/plain": [
       "array([0, 1, 2, 3, 4])"
      ]
     },
     "execution_count": 21,
     "metadata": {},
     "output_type": "execute_result"
    }
   ],
   "source": [
    "all_spend['cat_int'] = all_spend['cat_name'].apply(lambda x: SELECTED_CAT.index(x))\n",
    "all_spend['cat_int'].unique()"
   ]
  },
  {
   "cell_type": "markdown",
   "metadata": {},
   "source": [
    "### Merge every things together and select features"
   ]
  },
  {
   "cell_type": "code",
   "execution_count": 23,
   "metadata": {
    "collapsed": true
   },
   "outputs": [],
   "source": [
    "dataset = pd.merge(ccinfo, all_spend, how='right',\n",
    "                   left_index=True, right_on='card_no')"
   ]
  },
  {
   "cell_type": "markdown",
   "metadata": {},
   "source": [
    "## Start Modeling"
   ]
  },
  {
   "cell_type": "markdown",
   "metadata": {},
   "source": [
    "### 1st model for classifying 0s and non 0s"
   ]
  },
  {
   "cell_type": "code",
   "execution_count": 24,
   "metadata": {},
   "outputs": [
    {
     "data": {
      "text/plain": [
       "XGBClassifier(base_score=0.5, colsample_bylevel=1, colsample_bytree=1,\n",
       "       gamma=1, learning_rate=0.1, max_delta_step=0, max_depth=3,\n",
       "       min_child_weight=10, missing=None, n_estimators=100, nthread=-1,\n",
       "       objective='binary:logistic', reg_alpha=0.015, reg_lambda=1,\n",
       "       scale_pos_weight=1, seed=0, silent=True, subsample=1)"
      ]
     },
     "execution_count": 24,
     "metadata": {},
     "output_type": "execute_result"
    }
   ],
   "source": [
    "X = dataset[['total_count', 'brth_estb_yr', 'gnd_ind', 'mean', 'bill6', 'count6', 'bill15', 'count15',\n",
    "             'bill16', 'count16', 'bill17', 'count17', 'cat_int']]\n",
    "\n",
    "X = pd.get_dummies(X, columns = ['cat_int'] ).values\n",
    "y = dataset['count18'].values >= 1\n",
    "\n",
    "from xgboost import XGBClassifier\n",
    "model_class = XGBClassifier(min_child_weight=10, max_depth=3, gamma=1,\n",
    "                           reg_alpha=0.015)\n",
    "\n",
    "model_class.fit(X,y)"
   ]
  },
  {
   "cell_type": "markdown",
   "metadata": {},
   "source": [
    "### 2nd Model - Predict Count (How many times card used next month) - only those with predicted non 0s values from 1st model selected"
   ]
  },
  {
   "cell_type": "code",
   "execution_count": 26,
   "metadata": {},
   "outputs": [
    {
     "data": {
      "text/plain": [
       "0.43716663110731813"
      ]
     },
     "execution_count": 26,
     "metadata": {},
     "output_type": "execute_result"
    }
   ],
   "source": [
    "dataset_reg = dataset[dataset['count18'] > 0]\n",
    "\n",
    "\n",
    "X = dataset_reg[['total_count', 'gnd_ind', 'mean', 'bill6', 'count6', 'bill15', 'count15',\n",
    "             'bill16', 'count16', 'bill17', 'count17', 'cat_int']]\n",
    "\n",
    "X = pd.get_dummies(X, columns = ['cat_int'] ).values\n",
    "y = dataset_reg['count18']\n",
    "\n",
    "X_train, X_test, y_train, y_test = train_test_split(X, y, test_size=0.2)\n",
    "\n",
    "model_reg_f = LGBMRegressor(n_estimators=100, num_leaves=80)\n",
    "model_reg_f.fit(X, y) \n",
    "\n",
    "y_pred = model_reg_f.predict(X_test).round()\n",
    "mean_absolute_error(y_test, y_pred)"
   ]
  },
  {
   "cell_type": "markdown",
   "metadata": {},
   "source": [
    "### 3rd model - Predicting amount spent next month"
   ]
  },
  {
   "cell_type": "code",
   "execution_count": 27,
   "metadata": {},
   "outputs": [
    {
     "data": {
      "text/plain": [
       "8280.7117459418914"
      ]
     },
     "execution_count": 27,
     "metadata": {},
     "output_type": "execute_result"
    }
   ],
   "source": [
    "dataset_reg = dataset[dataset['count18'] > 0]\n",
    "\n",
    "X = dataset_reg[['total_count', 'gnd_ind', 'mean', 'bill6', 'count6', 'bill15', 'count15',\n",
    "             'bill16', 'count16', 'bill17', 'count17', 'cat_int']]\n",
    "\n",
    "X = pd.get_dummies(X, columns = ['cat_int'] ).values\n",
    "y = dataset_reg['bill18']\n",
    "\n",
    "\n",
    "X_train, X_test, y_train, y_test = train_test_split(X, y, test_size=0.2)\n",
    "\n",
    "\n",
    "model_reg_s = LGBMRegressor(n_estimators=400, num_leaves=80, learning_rate=0.05)\n",
    "model_reg_s.fit(X, y)\n",
    "\n",
    "y_pred = model_reg_s.predict(X_test)\n",
    "mean_absolute_error(y_test, y_pred)"
   ]
  },
  {
   "cell_type": "markdown",
   "metadata": {},
   "source": [
    "## Predicting the answer"
   ]
  },
  {
   "cell_type": "markdown",
   "metadata": {},
   "source": [
    "### Using 1st Model"
   ]
  },
  {
   "cell_type": "code",
   "execution_count": 28,
   "metadata": {
    "collapsed": true
   },
   "outputs": [],
   "source": [
    "dataset.sort_values(['card_no', 'cat_int'], inplace=True)\n",
    "dataset.reset_index(drop=True, inplace=True)\n",
    "\n",
    "\n",
    "X = dataset[['total_count', 'brth_estb_yr', 'gnd_ind', 'mean', 'bill7', 'count7', 'bill16', 'count16',\n",
    "             'bill17', 'count17', 'bill18', 'count18', 'cat_int']]\n",
    "\n",
    "X = pd.get_dummies(X, columns = ['cat_int'] ).values\n",
    "\n",
    "y_buy = model_class.predict_proba(X)[:,1] > 0.1"
   ]
  },
  {
   "cell_type": "markdown",
   "metadata": {},
   "source": [
    "### Using 2nd Model"
   ]
  },
  {
   "cell_type": "code",
   "execution_count": 29,
   "metadata": {
    "collapsed": true
   },
   "outputs": [],
   "source": [
    "dataset_buy = dataset[y_buy]\n",
    "\n",
    "X = dataset_buy[['total_count', 'gnd_ind', 'mean', 'bill7', 'count7', 'bill16', 'count16',\n",
    "             'bill17', 'count17', 'bill18', 'count18', 'cat_int']]\n",
    "\n",
    "X = pd.get_dummies(X, columns = ['cat_int'] ).values\n",
    "\n",
    "y_pred_f = model_reg_f.predict(X).round()"
   ]
  },
  {
   "cell_type": "markdown",
   "metadata": {},
   "source": [
    "### Using 3rd Model"
   ]
  },
  {
   "cell_type": "code",
   "execution_count": 30,
   "metadata": {
    "collapsed": true
   },
   "outputs": [],
   "source": [
    "y_pred_s = model_reg_s.predict(X).round()"
   ]
  },
  {
   "cell_type": "markdown",
   "metadata": {},
   "source": [
    "## Format the answer for submitting"
   ]
  },
  {
   "cell_type": "code",
   "execution_count": 31,
   "metadata": {
    "collapsed": true
   },
   "outputs": [],
   "source": [
    "dataset.loc[y_buy, 'count_ans'] = y_pred_f\n",
    "dataset.loc[y_buy, 'spend_ans'] = y_pred_s\n",
    "\n",
    "dataset.fillna(0, inplace=True)\n",
    "\n",
    "ans = dataset[['count_ans', 'spend_ans']]\n",
    "\n",
    "ans_df = pd.DataFrame({'auto_f': ans['count_ans'][::5].reset_index(drop=True), 'cloth_f': ans['count_ans'][1::5].reset_index(drop=True), \n",
    "                        'serv_f': ans['count_ans'][2::5].reset_index(drop=True), 'tran_f': ans['count_ans'][3::5].reset_index(drop=True), \n",
    "                        'util_f': ans['count_ans'][4::5].reset_index(drop=True), 'auto_s': ans['spend_ans'][::5].reset_index(drop=True), \n",
    "                        'cloth_s': ans['spend_ans'][1::5].reset_index(drop=True), 'serv_s': ans['spend_ans'][2::5].reset_index(drop=True), \n",
    "                        'tran_s': ans['spend_ans'][3::5].reset_index(drop=True), 'util_s': ans['spend_ans'][4::5].reset_index(drop=True), })\n",
    "\n",
    "ans_df = ans_df[['auto_f', 'cloth_f', 'serv_f', 'tran_f', 'util_f',\n",
    "                   'auto_s', 'cloth_s', 'serv_s', 'tran_s', 'util_s']]\n",
    "\n",
    "ans_df.to_csv('Team_19.csv', header=False, index=False, sep=',')"
   ]
  },
  {
   "cell_type": "code",
   "execution_count": null,
   "metadata": {
    "collapsed": true
   },
   "outputs": [],
   "source": []
  }
 ],
 "metadata": {
  "kernelspec": {
   "display_name": "Python 3",
   "language": "python",
   "name": "python3"
  },
  "language_info": {
   "codemirror_mode": {
    "name": "ipython",
    "version": 3
   },
   "file_extension": ".py",
   "mimetype": "text/x-python",
   "name": "python",
   "nbconvert_exporter": "python",
   "pygments_lexer": "ipython3",
   "version": "3.6.1"
  }
 },
 "nbformat": 4,
 "nbformat_minor": 2
}
